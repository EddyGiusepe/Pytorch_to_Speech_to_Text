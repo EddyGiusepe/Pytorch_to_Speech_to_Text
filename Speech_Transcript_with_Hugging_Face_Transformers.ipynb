{
  "nbformat": 4,
  "nbformat_minor": 0,
  "metadata": {
    "colab": {
      "name": "Speech_Transcript_with_Hugging_Face_Transformers.ipynb",
      "provenance": [],
      "collapsed_sections": [],
      "mount_file_id": "11cJPAGfsiw0rfJPzSKyIgzTMUjHyJ6uM",
      "authorship_tag": "ABX9TyORsBSg7MeZsHZGZmOTT3t/",
      "include_colab_link": true
    },
    "kernelspec": {
      "name": "python3",
      "display_name": "Python 3"
    },
    "language_info": {
      "name": "python"
    },
    "widgets": {
      "application/vnd.jupyter.widget-state+json": {
        "b601bac65cf84513b95a8c3c5dadba3e": {
          "model_module": "@jupyter-widgets/controls",
          "model_name": "HBoxModel",
          "model_module_version": "1.5.0",
          "state": {
            "_dom_classes": [],
            "_model_module": "@jupyter-widgets/controls",
            "_model_module_version": "1.5.0",
            "_model_name": "HBoxModel",
            "_view_count": null,
            "_view_module": "@jupyter-widgets/controls",
            "_view_module_version": "1.5.0",
            "_view_name": "HBoxView",
            "box_style": "",
            "children": [
              "IPY_MODEL_bfcf3461ae5b454598e884ba2a8e2bf1",
              "IPY_MODEL_9a98e2bfd44e4ecfb3d22615dd940cbb",
              "IPY_MODEL_25e662508c314ab69583491b9004dfc8"
            ],
            "layout": "IPY_MODEL_bec99fad3e9d4eedbd54c826bd5cc724"
          }
        },
        "bfcf3461ae5b454598e884ba2a8e2bf1": {
          "model_module": "@jupyter-widgets/controls",
          "model_name": "HTMLModel",
          "model_module_version": "1.5.0",
          "state": {
            "_dom_classes": [],
            "_model_module": "@jupyter-widgets/controls",
            "_model_module_version": "1.5.0",
            "_model_name": "HTMLModel",
            "_view_count": null,
            "_view_module": "@jupyter-widgets/controls",
            "_view_module_version": "1.5.0",
            "_view_name": "HTMLView",
            "description": "",
            "description_tooltip": null,
            "layout": "IPY_MODEL_4881caad74bb404f8602c904b6ef3cd2",
            "placeholder": "​",
            "style": "IPY_MODEL_439149f249e6469e85c6e08e0ce45cd0",
            "value": "Downloading: 100%"
          }
        },
        "9a98e2bfd44e4ecfb3d22615dd940cbb": {
          "model_module": "@jupyter-widgets/controls",
          "model_name": "FloatProgressModel",
          "model_module_version": "1.5.0",
          "state": {
            "_dom_classes": [],
            "_model_module": "@jupyter-widgets/controls",
            "_model_module_version": "1.5.0",
            "_model_name": "FloatProgressModel",
            "_view_count": null,
            "_view_module": "@jupyter-widgets/controls",
            "_view_module_version": "1.5.0",
            "_view_name": "ProgressView",
            "bar_style": "success",
            "description": "",
            "description_tooltip": null,
            "layout": "IPY_MODEL_030bada0d0854f54a0d8779d356c7eb9",
            "max": 291,
            "min": 0,
            "orientation": "horizontal",
            "style": "IPY_MODEL_ad2f84a71e6e4fee955029545d6c725e",
            "value": 291
          }
        },
        "25e662508c314ab69583491b9004dfc8": {
          "model_module": "@jupyter-widgets/controls",
          "model_name": "HTMLModel",
          "model_module_version": "1.5.0",
          "state": {
            "_dom_classes": [],
            "_model_module": "@jupyter-widgets/controls",
            "_model_module_version": "1.5.0",
            "_model_name": "HTMLModel",
            "_view_count": null,
            "_view_module": "@jupyter-widgets/controls",
            "_view_module_version": "1.5.0",
            "_view_name": "HTMLView",
            "description": "",
            "description_tooltip": null,
            "layout": "IPY_MODEL_7b38e5645cb94051b8db3fbf4989f8f5",
            "placeholder": "​",
            "style": "IPY_MODEL_29a45e5b32b149d4ac8e7a8a6edbc032",
            "value": " 291/291 [00:00&lt;00:00, 6.41kB/s]"
          }
        },
        "bec99fad3e9d4eedbd54c826bd5cc724": {
          "model_module": "@jupyter-widgets/base",
          "model_name": "LayoutModel",
          "model_module_version": "1.2.0",
          "state": {
            "_model_module": "@jupyter-widgets/base",
            "_model_module_version": "1.2.0",
            "_model_name": "LayoutModel",
            "_view_count": null,
            "_view_module": "@jupyter-widgets/base",
            "_view_module_version": "1.2.0",
            "_view_name": "LayoutView",
            "align_content": null,
            "align_items": null,
            "align_self": null,
            "border": null,
            "bottom": null,
            "display": null,
            "flex": null,
            "flex_flow": null,
            "grid_area": null,
            "grid_auto_columns": null,
            "grid_auto_flow": null,
            "grid_auto_rows": null,
            "grid_column": null,
            "grid_gap": null,
            "grid_row": null,
            "grid_template_areas": null,
            "grid_template_columns": null,
            "grid_template_rows": null,
            "height": null,
            "justify_content": null,
            "justify_items": null,
            "left": null,
            "margin": null,
            "max_height": null,
            "max_width": null,
            "min_height": null,
            "min_width": null,
            "object_fit": null,
            "object_position": null,
            "order": null,
            "overflow": null,
            "overflow_x": null,
            "overflow_y": null,
            "padding": null,
            "right": null,
            "top": null,
            "visibility": null,
            "width": null
          }
        },
        "4881caad74bb404f8602c904b6ef3cd2": {
          "model_module": "@jupyter-widgets/base",
          "model_name": "LayoutModel",
          "model_module_version": "1.2.0",
          "state": {
            "_model_module": "@jupyter-widgets/base",
            "_model_module_version": "1.2.0",
            "_model_name": "LayoutModel",
            "_view_count": null,
            "_view_module": "@jupyter-widgets/base",
            "_view_module_version": "1.2.0",
            "_view_name": "LayoutView",
            "align_content": null,
            "align_items": null,
            "align_self": null,
            "border": null,
            "bottom": null,
            "display": null,
            "flex": null,
            "flex_flow": null,
            "grid_area": null,
            "grid_auto_columns": null,
            "grid_auto_flow": null,
            "grid_auto_rows": null,
            "grid_column": null,
            "grid_gap": null,
            "grid_row": null,
            "grid_template_areas": null,
            "grid_template_columns": null,
            "grid_template_rows": null,
            "height": null,
            "justify_content": null,
            "justify_items": null,
            "left": null,
            "margin": null,
            "max_height": null,
            "max_width": null,
            "min_height": null,
            "min_width": null,
            "object_fit": null,
            "object_position": null,
            "order": null,
            "overflow": null,
            "overflow_x": null,
            "overflow_y": null,
            "padding": null,
            "right": null,
            "top": null,
            "visibility": null,
            "width": null
          }
        },
        "439149f249e6469e85c6e08e0ce45cd0": {
          "model_module": "@jupyter-widgets/controls",
          "model_name": "DescriptionStyleModel",
          "model_module_version": "1.5.0",
          "state": {
            "_model_module": "@jupyter-widgets/controls",
            "_model_module_version": "1.5.0",
            "_model_name": "DescriptionStyleModel",
            "_view_count": null,
            "_view_module": "@jupyter-widgets/base",
            "_view_module_version": "1.2.0",
            "_view_name": "StyleView",
            "description_width": ""
          }
        },
        "030bada0d0854f54a0d8779d356c7eb9": {
          "model_module": "@jupyter-widgets/base",
          "model_name": "LayoutModel",
          "model_module_version": "1.2.0",
          "state": {
            "_model_module": "@jupyter-widgets/base",
            "_model_module_version": "1.2.0",
            "_model_name": "LayoutModel",
            "_view_count": null,
            "_view_module": "@jupyter-widgets/base",
            "_view_module_version": "1.2.0",
            "_view_name": "LayoutView",
            "align_content": null,
            "align_items": null,
            "align_self": null,
            "border": null,
            "bottom": null,
            "display": null,
            "flex": null,
            "flex_flow": null,
            "grid_area": null,
            "grid_auto_columns": null,
            "grid_auto_flow": null,
            "grid_auto_rows": null,
            "grid_column": null,
            "grid_gap": null,
            "grid_row": null,
            "grid_template_areas": null,
            "grid_template_columns": null,
            "grid_template_rows": null,
            "height": null,
            "justify_content": null,
            "justify_items": null,
            "left": null,
            "margin": null,
            "max_height": null,
            "max_width": null,
            "min_height": null,
            "min_width": null,
            "object_fit": null,
            "object_position": null,
            "order": null,
            "overflow": null,
            "overflow_x": null,
            "overflow_y": null,
            "padding": null,
            "right": null,
            "top": null,
            "visibility": null,
            "width": null
          }
        },
        "ad2f84a71e6e4fee955029545d6c725e": {
          "model_module": "@jupyter-widgets/controls",
          "model_name": "ProgressStyleModel",
          "model_module_version": "1.5.0",
          "state": {
            "_model_module": "@jupyter-widgets/controls",
            "_model_module_version": "1.5.0",
            "_model_name": "ProgressStyleModel",
            "_view_count": null,
            "_view_module": "@jupyter-widgets/base",
            "_view_module_version": "1.2.0",
            "_view_name": "StyleView",
            "bar_color": null,
            "description_width": ""
          }
        },
        "7b38e5645cb94051b8db3fbf4989f8f5": {
          "model_module": "@jupyter-widgets/base",
          "model_name": "LayoutModel",
          "model_module_version": "1.2.0",
          "state": {
            "_model_module": "@jupyter-widgets/base",
            "_model_module_version": "1.2.0",
            "_model_name": "LayoutModel",
            "_view_count": null,
            "_view_module": "@jupyter-widgets/base",
            "_view_module_version": "1.2.0",
            "_view_name": "LayoutView",
            "align_content": null,
            "align_items": null,
            "align_self": null,
            "border": null,
            "bottom": null,
            "display": null,
            "flex": null,
            "flex_flow": null,
            "grid_area": null,
            "grid_auto_columns": null,
            "grid_auto_flow": null,
            "grid_auto_rows": null,
            "grid_column": null,
            "grid_gap": null,
            "grid_row": null,
            "grid_template_areas": null,
            "grid_template_columns": null,
            "grid_template_rows": null,
            "height": null,
            "justify_content": null,
            "justify_items": null,
            "left": null,
            "margin": null,
            "max_height": null,
            "max_width": null,
            "min_height": null,
            "min_width": null,
            "object_fit": null,
            "object_position": null,
            "order": null,
            "overflow": null,
            "overflow_x": null,
            "overflow_y": null,
            "padding": null,
            "right": null,
            "top": null,
            "visibility": null,
            "width": null
          }
        },
        "29a45e5b32b149d4ac8e7a8a6edbc032": {
          "model_module": "@jupyter-widgets/controls",
          "model_name": "DescriptionStyleModel",
          "model_module_version": "1.5.0",
          "state": {
            "_model_module": "@jupyter-widgets/controls",
            "_model_module_version": "1.5.0",
            "_model_name": "DescriptionStyleModel",
            "_view_count": null,
            "_view_module": "@jupyter-widgets/base",
            "_view_module_version": "1.2.0",
            "_view_name": "StyleView",
            "description_width": ""
          }
        },
        "16dbf6ec74ae45d1a568e016b0b18829": {
          "model_module": "@jupyter-widgets/controls",
          "model_name": "HBoxModel",
          "model_module_version": "1.5.0",
          "state": {
            "_dom_classes": [],
            "_model_module": "@jupyter-widgets/controls",
            "_model_module_version": "1.5.0",
            "_model_name": "HBoxModel",
            "_view_count": null,
            "_view_module": "@jupyter-widgets/controls",
            "_view_module_version": "1.5.0",
            "_view_name": "HBoxView",
            "box_style": "",
            "children": [
              "IPY_MODEL_f5d3cc4c7ba34bfb8686567bec8c0994",
              "IPY_MODEL_abe62e18cc9e49d0bd8f7d0f4ed65580",
              "IPY_MODEL_9a57a13ed27d4f7ba9690b7d9b8b4802"
            ],
            "layout": "IPY_MODEL_a8dcac5e98f148f4bc046c33128d1ec0"
          }
        },
        "f5d3cc4c7ba34bfb8686567bec8c0994": {
          "model_module": "@jupyter-widgets/controls",
          "model_name": "HTMLModel",
          "model_module_version": "1.5.0",
          "state": {
            "_dom_classes": [],
            "_model_module": "@jupyter-widgets/controls",
            "_model_module_version": "1.5.0",
            "_model_name": "HTMLModel",
            "_view_count": null,
            "_view_module": "@jupyter-widgets/controls",
            "_view_module_version": "1.5.0",
            "_view_name": "HTMLView",
            "description": "",
            "description_tooltip": null,
            "layout": "IPY_MODEL_9cccd2190f1c4d30b53241ef9980d9a0",
            "placeholder": "​",
            "style": "IPY_MODEL_ba4995e4fa7841e692cc9c7f05ba5439",
            "value": "Downloading: 100%"
          }
        },
        "abe62e18cc9e49d0bd8f7d0f4ed65580": {
          "model_module": "@jupyter-widgets/controls",
          "model_name": "FloatProgressModel",
          "model_module_version": "1.5.0",
          "state": {
            "_dom_classes": [],
            "_model_module": "@jupyter-widgets/controls",
            "_model_module_version": "1.5.0",
            "_model_name": "FloatProgressModel",
            "_view_count": null,
            "_view_module": "@jupyter-widgets/controls",
            "_view_module_version": "1.5.0",
            "_view_name": "ProgressView",
            "bar_style": "success",
            "description": "",
            "description_tooltip": null,
            "layout": "IPY_MODEL_e1cf155e07884b2db9a480ebf0bf0ae3",
            "max": 163,
            "min": 0,
            "orientation": "horizontal",
            "style": "IPY_MODEL_cd5a1a80106246f0a4b084f07f281692",
            "value": 163
          }
        },
        "9a57a13ed27d4f7ba9690b7d9b8b4802": {
          "model_module": "@jupyter-widgets/controls",
          "model_name": "HTMLModel",
          "model_module_version": "1.5.0",
          "state": {
            "_dom_classes": [],
            "_model_module": "@jupyter-widgets/controls",
            "_model_module_version": "1.5.0",
            "_model_name": "HTMLModel",
            "_view_count": null,
            "_view_module": "@jupyter-widgets/controls",
            "_view_module_version": "1.5.0",
            "_view_name": "HTMLView",
            "description": "",
            "description_tooltip": null,
            "layout": "IPY_MODEL_619865b0a95c4f779dd67817dbf96771",
            "placeholder": "​",
            "style": "IPY_MODEL_2728b7d0af1947e4a8e5c19b5b884ad7",
            "value": " 163/163 [00:00&lt;00:00, 3.74kB/s]"
          }
        },
        "a8dcac5e98f148f4bc046c33128d1ec0": {
          "model_module": "@jupyter-widgets/base",
          "model_name": "LayoutModel",
          "model_module_version": "1.2.0",
          "state": {
            "_model_module": "@jupyter-widgets/base",
            "_model_module_version": "1.2.0",
            "_model_name": "LayoutModel",
            "_view_count": null,
            "_view_module": "@jupyter-widgets/base",
            "_view_module_version": "1.2.0",
            "_view_name": "LayoutView",
            "align_content": null,
            "align_items": null,
            "align_self": null,
            "border": null,
            "bottom": null,
            "display": null,
            "flex": null,
            "flex_flow": null,
            "grid_area": null,
            "grid_auto_columns": null,
            "grid_auto_flow": null,
            "grid_auto_rows": null,
            "grid_column": null,
            "grid_gap": null,
            "grid_row": null,
            "grid_template_areas": null,
            "grid_template_columns": null,
            "grid_template_rows": null,
            "height": null,
            "justify_content": null,
            "justify_items": null,
            "left": null,
            "margin": null,
            "max_height": null,
            "max_width": null,
            "min_height": null,
            "min_width": null,
            "object_fit": null,
            "object_position": null,
            "order": null,
            "overflow": null,
            "overflow_x": null,
            "overflow_y": null,
            "padding": null,
            "right": null,
            "top": null,
            "visibility": null,
            "width": null
          }
        },
        "9cccd2190f1c4d30b53241ef9980d9a0": {
          "model_module": "@jupyter-widgets/base",
          "model_name": "LayoutModel",
          "model_module_version": "1.2.0",
          "state": {
            "_model_module": "@jupyter-widgets/base",
            "_model_module_version": "1.2.0",
            "_model_name": "LayoutModel",
            "_view_count": null,
            "_view_module": "@jupyter-widgets/base",
            "_view_module_version": "1.2.0",
            "_view_name": "LayoutView",
            "align_content": null,
            "align_items": null,
            "align_self": null,
            "border": null,
            "bottom": null,
            "display": null,
            "flex": null,
            "flex_flow": null,
            "grid_area": null,
            "grid_auto_columns": null,
            "grid_auto_flow": null,
            "grid_auto_rows": null,
            "grid_column": null,
            "grid_gap": null,
            "grid_row": null,
            "grid_template_areas": null,
            "grid_template_columns": null,
            "grid_template_rows": null,
            "height": null,
            "justify_content": null,
            "justify_items": null,
            "left": null,
            "margin": null,
            "max_height": null,
            "max_width": null,
            "min_height": null,
            "min_width": null,
            "object_fit": null,
            "object_position": null,
            "order": null,
            "overflow": null,
            "overflow_x": null,
            "overflow_y": null,
            "padding": null,
            "right": null,
            "top": null,
            "visibility": null,
            "width": null
          }
        },
        "ba4995e4fa7841e692cc9c7f05ba5439": {
          "model_module": "@jupyter-widgets/controls",
          "model_name": "DescriptionStyleModel",
          "model_module_version": "1.5.0",
          "state": {
            "_model_module": "@jupyter-widgets/controls",
            "_model_module_version": "1.5.0",
            "_model_name": "DescriptionStyleModel",
            "_view_count": null,
            "_view_module": "@jupyter-widgets/base",
            "_view_module_version": "1.2.0",
            "_view_name": "StyleView",
            "description_width": ""
          }
        },
        "e1cf155e07884b2db9a480ebf0bf0ae3": {
          "model_module": "@jupyter-widgets/base",
          "model_name": "LayoutModel",
          "model_module_version": "1.2.0",
          "state": {
            "_model_module": "@jupyter-widgets/base",
            "_model_module_version": "1.2.0",
            "_model_name": "LayoutModel",
            "_view_count": null,
            "_view_module": "@jupyter-widgets/base",
            "_view_module_version": "1.2.0",
            "_view_name": "LayoutView",
            "align_content": null,
            "align_items": null,
            "align_self": null,
            "border": null,
            "bottom": null,
            "display": null,
            "flex": null,
            "flex_flow": null,
            "grid_area": null,
            "grid_auto_columns": null,
            "grid_auto_flow": null,
            "grid_auto_rows": null,
            "grid_column": null,
            "grid_gap": null,
            "grid_row": null,
            "grid_template_areas": null,
            "grid_template_columns": null,
            "grid_template_rows": null,
            "height": null,
            "justify_content": null,
            "justify_items": null,
            "left": null,
            "margin": null,
            "max_height": null,
            "max_width": null,
            "min_height": null,
            "min_width": null,
            "object_fit": null,
            "object_position": null,
            "order": null,
            "overflow": null,
            "overflow_x": null,
            "overflow_y": null,
            "padding": null,
            "right": null,
            "top": null,
            "visibility": null,
            "width": null
          }
        },
        "cd5a1a80106246f0a4b084f07f281692": {
          "model_module": "@jupyter-widgets/controls",
          "model_name": "ProgressStyleModel",
          "model_module_version": "1.5.0",
          "state": {
            "_model_module": "@jupyter-widgets/controls",
            "_model_module_version": "1.5.0",
            "_model_name": "ProgressStyleModel",
            "_view_count": null,
            "_view_module": "@jupyter-widgets/base",
            "_view_module_version": "1.2.0",
            "_view_name": "StyleView",
            "bar_color": null,
            "description_width": ""
          }
        },
        "619865b0a95c4f779dd67817dbf96771": {
          "model_module": "@jupyter-widgets/base",
          "model_name": "LayoutModel",
          "model_module_version": "1.2.0",
          "state": {
            "_model_module": "@jupyter-widgets/base",
            "_model_module_version": "1.2.0",
            "_model_name": "LayoutModel",
            "_view_count": null,
            "_view_module": "@jupyter-widgets/base",
            "_view_module_version": "1.2.0",
            "_view_name": "LayoutView",
            "align_content": null,
            "align_items": null,
            "align_self": null,
            "border": null,
            "bottom": null,
            "display": null,
            "flex": null,
            "flex_flow": null,
            "grid_area": null,
            "grid_auto_columns": null,
            "grid_auto_flow": null,
            "grid_auto_rows": null,
            "grid_column": null,
            "grid_gap": null,
            "grid_row": null,
            "grid_template_areas": null,
            "grid_template_columns": null,
            "grid_template_rows": null,
            "height": null,
            "justify_content": null,
            "justify_items": null,
            "left": null,
            "margin": null,
            "max_height": null,
            "max_width": null,
            "min_height": null,
            "min_width": null,
            "object_fit": null,
            "object_position": null,
            "order": null,
            "overflow": null,
            "overflow_x": null,
            "overflow_y": null,
            "padding": null,
            "right": null,
            "top": null,
            "visibility": null,
            "width": null
          }
        },
        "2728b7d0af1947e4a8e5c19b5b884ad7": {
          "model_module": "@jupyter-widgets/controls",
          "model_name": "DescriptionStyleModel",
          "model_module_version": "1.5.0",
          "state": {
            "_model_module": "@jupyter-widgets/controls",
            "_model_module_version": "1.5.0",
            "_model_name": "DescriptionStyleModel",
            "_view_count": null,
            "_view_module": "@jupyter-widgets/base",
            "_view_module_version": "1.2.0",
            "_view_name": "StyleView",
            "description_width": ""
          }
        },
        "c636028c119b4748b1645a1130316c2f": {
          "model_module": "@jupyter-widgets/controls",
          "model_name": "HBoxModel",
          "model_module_version": "1.5.0",
          "state": {
            "_dom_classes": [],
            "_model_module": "@jupyter-widgets/controls",
            "_model_module_version": "1.5.0",
            "_model_name": "HBoxModel",
            "_view_count": null,
            "_view_module": "@jupyter-widgets/controls",
            "_view_module_version": "1.5.0",
            "_view_name": "HBoxView",
            "box_style": "",
            "children": [
              "IPY_MODEL_db2978d8322743668d5d86a2c3c4acad",
              "IPY_MODEL_1560fd603af3485bb16403f51b5ef88a",
              "IPY_MODEL_3536da960a7548cdbcdffddd80397606"
            ],
            "layout": "IPY_MODEL_a178d64b95e5412bb20dc168002fe2e0"
          }
        },
        "db2978d8322743668d5d86a2c3c4acad": {
          "model_module": "@jupyter-widgets/controls",
          "model_name": "HTMLModel",
          "model_module_version": "1.5.0",
          "state": {
            "_dom_classes": [],
            "_model_module": "@jupyter-widgets/controls",
            "_model_module_version": "1.5.0",
            "_model_name": "HTMLModel",
            "_view_count": null,
            "_view_module": "@jupyter-widgets/controls",
            "_view_module_version": "1.5.0",
            "_view_name": "HTMLView",
            "description": "",
            "description_tooltip": null,
            "layout": "IPY_MODEL_3c916c757f2d40a9b4c6c827a9052105",
            "placeholder": "​",
            "style": "IPY_MODEL_cabb9ad7137a434fad7a60a6362b417f",
            "value": "Downloading: 100%"
          }
        },
        "1560fd603af3485bb16403f51b5ef88a": {
          "model_module": "@jupyter-widgets/controls",
          "model_name": "FloatProgressModel",
          "model_module_version": "1.5.0",
          "state": {
            "_dom_classes": [],
            "_model_module": "@jupyter-widgets/controls",
            "_model_module_version": "1.5.0",
            "_model_name": "FloatProgressModel",
            "_view_count": null,
            "_view_module": "@jupyter-widgets/controls",
            "_view_module_version": "1.5.0",
            "_view_name": "ProgressView",
            "bar_style": "success",
            "description": "",
            "description_tooltip": null,
            "layout": "IPY_MODEL_91d4e549b53f4dfc9396565ac047870a",
            "max": 85,
            "min": 0,
            "orientation": "horizontal",
            "style": "IPY_MODEL_97ce993e300c49d2b442e845136bbd37",
            "value": 85
          }
        },
        "3536da960a7548cdbcdffddd80397606": {
          "model_module": "@jupyter-widgets/controls",
          "model_name": "HTMLModel",
          "model_module_version": "1.5.0",
          "state": {
            "_dom_classes": [],
            "_model_module": "@jupyter-widgets/controls",
            "_model_module_version": "1.5.0",
            "_model_name": "HTMLModel",
            "_view_count": null,
            "_view_module": "@jupyter-widgets/controls",
            "_view_module_version": "1.5.0",
            "_view_name": "HTMLView",
            "description": "",
            "description_tooltip": null,
            "layout": "IPY_MODEL_96210f8eba4944a98325a374c83ab75c",
            "placeholder": "​",
            "style": "IPY_MODEL_07dc2822681c4d219f3595c8c49e5c0a",
            "value": " 85.0/85.0 [00:00&lt;00:00, 1.50kB/s]"
          }
        },
        "a178d64b95e5412bb20dc168002fe2e0": {
          "model_module": "@jupyter-widgets/base",
          "model_name": "LayoutModel",
          "model_module_version": "1.2.0",
          "state": {
            "_model_module": "@jupyter-widgets/base",
            "_model_module_version": "1.2.0",
            "_model_name": "LayoutModel",
            "_view_count": null,
            "_view_module": "@jupyter-widgets/base",
            "_view_module_version": "1.2.0",
            "_view_name": "LayoutView",
            "align_content": null,
            "align_items": null,
            "align_self": null,
            "border": null,
            "bottom": null,
            "display": null,
            "flex": null,
            "flex_flow": null,
            "grid_area": null,
            "grid_auto_columns": null,
            "grid_auto_flow": null,
            "grid_auto_rows": null,
            "grid_column": null,
            "grid_gap": null,
            "grid_row": null,
            "grid_template_areas": null,
            "grid_template_columns": null,
            "grid_template_rows": null,
            "height": null,
            "justify_content": null,
            "justify_items": null,
            "left": null,
            "margin": null,
            "max_height": null,
            "max_width": null,
            "min_height": null,
            "min_width": null,
            "object_fit": null,
            "object_position": null,
            "order": null,
            "overflow": null,
            "overflow_x": null,
            "overflow_y": null,
            "padding": null,
            "right": null,
            "top": null,
            "visibility": null,
            "width": null
          }
        },
        "3c916c757f2d40a9b4c6c827a9052105": {
          "model_module": "@jupyter-widgets/base",
          "model_name": "LayoutModel",
          "model_module_version": "1.2.0",
          "state": {
            "_model_module": "@jupyter-widgets/base",
            "_model_module_version": "1.2.0",
            "_model_name": "LayoutModel",
            "_view_count": null,
            "_view_module": "@jupyter-widgets/base",
            "_view_module_version": "1.2.0",
            "_view_name": "LayoutView",
            "align_content": null,
            "align_items": null,
            "align_self": null,
            "border": null,
            "bottom": null,
            "display": null,
            "flex": null,
            "flex_flow": null,
            "grid_area": null,
            "grid_auto_columns": null,
            "grid_auto_flow": null,
            "grid_auto_rows": null,
            "grid_column": null,
            "grid_gap": null,
            "grid_row": null,
            "grid_template_areas": null,
            "grid_template_columns": null,
            "grid_template_rows": null,
            "height": null,
            "justify_content": null,
            "justify_items": null,
            "left": null,
            "margin": null,
            "max_height": null,
            "max_width": null,
            "min_height": null,
            "min_width": null,
            "object_fit": null,
            "object_position": null,
            "order": null,
            "overflow": null,
            "overflow_x": null,
            "overflow_y": null,
            "padding": null,
            "right": null,
            "top": null,
            "visibility": null,
            "width": null
          }
        },
        "cabb9ad7137a434fad7a60a6362b417f": {
          "model_module": "@jupyter-widgets/controls",
          "model_name": "DescriptionStyleModel",
          "model_module_version": "1.5.0",
          "state": {
            "_model_module": "@jupyter-widgets/controls",
            "_model_module_version": "1.5.0",
            "_model_name": "DescriptionStyleModel",
            "_view_count": null,
            "_view_module": "@jupyter-widgets/base",
            "_view_module_version": "1.2.0",
            "_view_name": "StyleView",
            "description_width": ""
          }
        },
        "91d4e549b53f4dfc9396565ac047870a": {
          "model_module": "@jupyter-widgets/base",
          "model_name": "LayoutModel",
          "model_module_version": "1.2.0",
          "state": {
            "_model_module": "@jupyter-widgets/base",
            "_model_module_version": "1.2.0",
            "_model_name": "LayoutModel",
            "_view_count": null,
            "_view_module": "@jupyter-widgets/base",
            "_view_module_version": "1.2.0",
            "_view_name": "LayoutView",
            "align_content": null,
            "align_items": null,
            "align_self": null,
            "border": null,
            "bottom": null,
            "display": null,
            "flex": null,
            "flex_flow": null,
            "grid_area": null,
            "grid_auto_columns": null,
            "grid_auto_flow": null,
            "grid_auto_rows": null,
            "grid_column": null,
            "grid_gap": null,
            "grid_row": null,
            "grid_template_areas": null,
            "grid_template_columns": null,
            "grid_template_rows": null,
            "height": null,
            "justify_content": null,
            "justify_items": null,
            "left": null,
            "margin": null,
            "max_height": null,
            "max_width": null,
            "min_height": null,
            "min_width": null,
            "object_fit": null,
            "object_position": null,
            "order": null,
            "overflow": null,
            "overflow_x": null,
            "overflow_y": null,
            "padding": null,
            "right": null,
            "top": null,
            "visibility": null,
            "width": null
          }
        },
        "97ce993e300c49d2b442e845136bbd37": {
          "model_module": "@jupyter-widgets/controls",
          "model_name": "ProgressStyleModel",
          "model_module_version": "1.5.0",
          "state": {
            "_model_module": "@jupyter-widgets/controls",
            "_model_module_version": "1.5.0",
            "_model_name": "ProgressStyleModel",
            "_view_count": null,
            "_view_module": "@jupyter-widgets/base",
            "_view_module_version": "1.2.0",
            "_view_name": "StyleView",
            "bar_color": null,
            "description_width": ""
          }
        },
        "96210f8eba4944a98325a374c83ab75c": {
          "model_module": "@jupyter-widgets/base",
          "model_name": "LayoutModel",
          "model_module_version": "1.2.0",
          "state": {
            "_model_module": "@jupyter-widgets/base",
            "_model_module_version": "1.2.0",
            "_model_name": "LayoutModel",
            "_view_count": null,
            "_view_module": "@jupyter-widgets/base",
            "_view_module_version": "1.2.0",
            "_view_name": "LayoutView",
            "align_content": null,
            "align_items": null,
            "align_self": null,
            "border": null,
            "bottom": null,
            "display": null,
            "flex": null,
            "flex_flow": null,
            "grid_area": null,
            "grid_auto_columns": null,
            "grid_auto_flow": null,
            "grid_auto_rows": null,
            "grid_column": null,
            "grid_gap": null,
            "grid_row": null,
            "grid_template_areas": null,
            "grid_template_columns": null,
            "grid_template_rows": null,
            "height": null,
            "justify_content": null,
            "justify_items": null,
            "left": null,
            "margin": null,
            "max_height": null,
            "max_width": null,
            "min_height": null,
            "min_width": null,
            "object_fit": null,
            "object_position": null,
            "order": null,
            "overflow": null,
            "overflow_x": null,
            "overflow_y": null,
            "padding": null,
            "right": null,
            "top": null,
            "visibility": null,
            "width": null
          }
        },
        "07dc2822681c4d219f3595c8c49e5c0a": {
          "model_module": "@jupyter-widgets/controls",
          "model_name": "DescriptionStyleModel",
          "model_module_version": "1.5.0",
          "state": {
            "_model_module": "@jupyter-widgets/controls",
            "_model_module_version": "1.5.0",
            "_model_name": "DescriptionStyleModel",
            "_view_count": null,
            "_view_module": "@jupyter-widgets/base",
            "_view_module_version": "1.2.0",
            "_view_name": "StyleView",
            "description_width": ""
          }
        },
        "345187b4f15d4cd69eac5b37154efe3f": {
          "model_module": "@jupyter-widgets/controls",
          "model_name": "HBoxModel",
          "model_module_version": "1.5.0",
          "state": {
            "_dom_classes": [],
            "_model_module": "@jupyter-widgets/controls",
            "_model_module_version": "1.5.0",
            "_model_name": "HBoxModel",
            "_view_count": null,
            "_view_module": "@jupyter-widgets/controls",
            "_view_module_version": "1.5.0",
            "_view_name": "HBoxView",
            "box_style": "",
            "children": [
              "IPY_MODEL_c070eaa48a5d4c52a39edcf66e04bfbf",
              "IPY_MODEL_d7de4010f03c4e35bb9dcd28a2734234",
              "IPY_MODEL_092df16cafb34ab29cdc03485793c1f0"
            ],
            "layout": "IPY_MODEL_efb16b80c88a40a99a8d7fb15733f68e"
          }
        },
        "c070eaa48a5d4c52a39edcf66e04bfbf": {
          "model_module": "@jupyter-widgets/controls",
          "model_name": "HTMLModel",
          "model_module_version": "1.5.0",
          "state": {
            "_dom_classes": [],
            "_model_module": "@jupyter-widgets/controls",
            "_model_module_version": "1.5.0",
            "_model_name": "HTMLModel",
            "_view_count": null,
            "_view_module": "@jupyter-widgets/controls",
            "_view_module_version": "1.5.0",
            "_view_name": "HTMLView",
            "description": "",
            "description_tooltip": null,
            "layout": "IPY_MODEL_3f4732763fed4fcdb28151b5c859ac19",
            "placeholder": "​",
            "style": "IPY_MODEL_b023642efc9a419084a0a75f4a0da65f",
            "value": "Downloading: 100%"
          }
        },
        "d7de4010f03c4e35bb9dcd28a2734234": {
          "model_module": "@jupyter-widgets/controls",
          "model_name": "FloatProgressModel",
          "model_module_version": "1.5.0",
          "state": {
            "_dom_classes": [],
            "_model_module": "@jupyter-widgets/controls",
            "_model_module_version": "1.5.0",
            "_model_name": "FloatProgressModel",
            "_view_count": null,
            "_view_module": "@jupyter-widgets/controls",
            "_view_module_version": "1.5.0",
            "_view_name": "ProgressView",
            "bar_style": "success",
            "description": "",
            "description_tooltip": null,
            "layout": "IPY_MODEL_fb9975e09a884ff5b2b1b6c4490e9e85",
            "max": 1596,
            "min": 0,
            "orientation": "horizontal",
            "style": "IPY_MODEL_7b12e0a2853f4af581e34bd2e7f78be0",
            "value": 1596
          }
        },
        "092df16cafb34ab29cdc03485793c1f0": {
          "model_module": "@jupyter-widgets/controls",
          "model_name": "HTMLModel",
          "model_module_version": "1.5.0",
          "state": {
            "_dom_classes": [],
            "_model_module": "@jupyter-widgets/controls",
            "_model_module_version": "1.5.0",
            "_model_name": "HTMLModel",
            "_view_count": null,
            "_view_module": "@jupyter-widgets/controls",
            "_view_module_version": "1.5.0",
            "_view_name": "HTMLView",
            "description": "",
            "description_tooltip": null,
            "layout": "IPY_MODEL_74d225eff17042f7880fc31f7b006fa3",
            "placeholder": "​",
            "style": "IPY_MODEL_5a74f02150a44985bd6fbd08577210e3",
            "value": " 1.56k/1.56k [00:00&lt;00:00, 39.8kB/s]"
          }
        },
        "efb16b80c88a40a99a8d7fb15733f68e": {
          "model_module": "@jupyter-widgets/base",
          "model_name": "LayoutModel",
          "model_module_version": "1.2.0",
          "state": {
            "_model_module": "@jupyter-widgets/base",
            "_model_module_version": "1.2.0",
            "_model_name": "LayoutModel",
            "_view_count": null,
            "_view_module": "@jupyter-widgets/base",
            "_view_module_version": "1.2.0",
            "_view_name": "LayoutView",
            "align_content": null,
            "align_items": null,
            "align_self": null,
            "border": null,
            "bottom": null,
            "display": null,
            "flex": null,
            "flex_flow": null,
            "grid_area": null,
            "grid_auto_columns": null,
            "grid_auto_flow": null,
            "grid_auto_rows": null,
            "grid_column": null,
            "grid_gap": null,
            "grid_row": null,
            "grid_template_areas": null,
            "grid_template_columns": null,
            "grid_template_rows": null,
            "height": null,
            "justify_content": null,
            "justify_items": null,
            "left": null,
            "margin": null,
            "max_height": null,
            "max_width": null,
            "min_height": null,
            "min_width": null,
            "object_fit": null,
            "object_position": null,
            "order": null,
            "overflow": null,
            "overflow_x": null,
            "overflow_y": null,
            "padding": null,
            "right": null,
            "top": null,
            "visibility": null,
            "width": null
          }
        },
        "3f4732763fed4fcdb28151b5c859ac19": {
          "model_module": "@jupyter-widgets/base",
          "model_name": "LayoutModel",
          "model_module_version": "1.2.0",
          "state": {
            "_model_module": "@jupyter-widgets/base",
            "_model_module_version": "1.2.0",
            "_model_name": "LayoutModel",
            "_view_count": null,
            "_view_module": "@jupyter-widgets/base",
            "_view_module_version": "1.2.0",
            "_view_name": "LayoutView",
            "align_content": null,
            "align_items": null,
            "align_self": null,
            "border": null,
            "bottom": null,
            "display": null,
            "flex": null,
            "flex_flow": null,
            "grid_area": null,
            "grid_auto_columns": null,
            "grid_auto_flow": null,
            "grid_auto_rows": null,
            "grid_column": null,
            "grid_gap": null,
            "grid_row": null,
            "grid_template_areas": null,
            "grid_template_columns": null,
            "grid_template_rows": null,
            "height": null,
            "justify_content": null,
            "justify_items": null,
            "left": null,
            "margin": null,
            "max_height": null,
            "max_width": null,
            "min_height": null,
            "min_width": null,
            "object_fit": null,
            "object_position": null,
            "order": null,
            "overflow": null,
            "overflow_x": null,
            "overflow_y": null,
            "padding": null,
            "right": null,
            "top": null,
            "visibility": null,
            "width": null
          }
        },
        "b023642efc9a419084a0a75f4a0da65f": {
          "model_module": "@jupyter-widgets/controls",
          "model_name": "DescriptionStyleModel",
          "model_module_version": "1.5.0",
          "state": {
            "_model_module": "@jupyter-widgets/controls",
            "_model_module_version": "1.5.0",
            "_model_name": "DescriptionStyleModel",
            "_view_count": null,
            "_view_module": "@jupyter-widgets/base",
            "_view_module_version": "1.2.0",
            "_view_name": "StyleView",
            "description_width": ""
          }
        },
        "fb9975e09a884ff5b2b1b6c4490e9e85": {
          "model_module": "@jupyter-widgets/base",
          "model_name": "LayoutModel",
          "model_module_version": "1.2.0",
          "state": {
            "_model_module": "@jupyter-widgets/base",
            "_model_module_version": "1.2.0",
            "_model_name": "LayoutModel",
            "_view_count": null,
            "_view_module": "@jupyter-widgets/base",
            "_view_module_version": "1.2.0",
            "_view_name": "LayoutView",
            "align_content": null,
            "align_items": null,
            "align_self": null,
            "border": null,
            "bottom": null,
            "display": null,
            "flex": null,
            "flex_flow": null,
            "grid_area": null,
            "grid_auto_columns": null,
            "grid_auto_flow": null,
            "grid_auto_rows": null,
            "grid_column": null,
            "grid_gap": null,
            "grid_row": null,
            "grid_template_areas": null,
            "grid_template_columns": null,
            "grid_template_rows": null,
            "height": null,
            "justify_content": null,
            "justify_items": null,
            "left": null,
            "margin": null,
            "max_height": null,
            "max_width": null,
            "min_height": null,
            "min_width": null,
            "object_fit": null,
            "object_position": null,
            "order": null,
            "overflow": null,
            "overflow_x": null,
            "overflow_y": null,
            "padding": null,
            "right": null,
            "top": null,
            "visibility": null,
            "width": null
          }
        },
        "7b12e0a2853f4af581e34bd2e7f78be0": {
          "model_module": "@jupyter-widgets/controls",
          "model_name": "ProgressStyleModel",
          "model_module_version": "1.5.0",
          "state": {
            "_model_module": "@jupyter-widgets/controls",
            "_model_module_version": "1.5.0",
            "_model_name": "ProgressStyleModel",
            "_view_count": null,
            "_view_module": "@jupyter-widgets/base",
            "_view_module_version": "1.2.0",
            "_view_name": "StyleView",
            "bar_color": null,
            "description_width": ""
          }
        },
        "74d225eff17042f7880fc31f7b006fa3": {
          "model_module": "@jupyter-widgets/base",
          "model_name": "LayoutModel",
          "model_module_version": "1.2.0",
          "state": {
            "_model_module": "@jupyter-widgets/base",
            "_model_module_version": "1.2.0",
            "_model_name": "LayoutModel",
            "_view_count": null,
            "_view_module": "@jupyter-widgets/base",
            "_view_module_version": "1.2.0",
            "_view_name": "LayoutView",
            "align_content": null,
            "align_items": null,
            "align_self": null,
            "border": null,
            "bottom": null,
            "display": null,
            "flex": null,
            "flex_flow": null,
            "grid_area": null,
            "grid_auto_columns": null,
            "grid_auto_flow": null,
            "grid_auto_rows": null,
            "grid_column": null,
            "grid_gap": null,
            "grid_row": null,
            "grid_template_areas": null,
            "grid_template_columns": null,
            "grid_template_rows": null,
            "height": null,
            "justify_content": null,
            "justify_items": null,
            "left": null,
            "margin": null,
            "max_height": null,
            "max_width": null,
            "min_height": null,
            "min_width": null,
            "object_fit": null,
            "object_position": null,
            "order": null,
            "overflow": null,
            "overflow_x": null,
            "overflow_y": null,
            "padding": null,
            "right": null,
            "top": null,
            "visibility": null,
            "width": null
          }
        },
        "5a74f02150a44985bd6fbd08577210e3": {
          "model_module": "@jupyter-widgets/controls",
          "model_name": "DescriptionStyleModel",
          "model_module_version": "1.5.0",
          "state": {
            "_model_module": "@jupyter-widgets/controls",
            "_model_module_version": "1.5.0",
            "_model_name": "DescriptionStyleModel",
            "_view_count": null,
            "_view_module": "@jupyter-widgets/base",
            "_view_module_version": "1.2.0",
            "_view_name": "StyleView",
            "description_width": ""
          }
        },
        "49891624cd874b639a0f5409e4ead69f": {
          "model_module": "@jupyter-widgets/controls",
          "model_name": "HBoxModel",
          "model_module_version": "1.5.0",
          "state": {
            "_dom_classes": [],
            "_model_module": "@jupyter-widgets/controls",
            "_model_module_version": "1.5.0",
            "_model_name": "HBoxModel",
            "_view_count": null,
            "_view_module": "@jupyter-widgets/controls",
            "_view_module_version": "1.5.0",
            "_view_name": "HBoxView",
            "box_style": "",
            "children": [
              "IPY_MODEL_ead80488bdc845f4a5a3d35b5e43ebb8",
              "IPY_MODEL_0ae53184962a4b6c9e86b96aee9b6bac",
              "IPY_MODEL_931392be3ba94d7c8fd1b709c44d5d0c"
            ],
            "layout": "IPY_MODEL_181ba4aef8c6409680849c536ca46474"
          }
        },
        "ead80488bdc845f4a5a3d35b5e43ebb8": {
          "model_module": "@jupyter-widgets/controls",
          "model_name": "HTMLModel",
          "model_module_version": "1.5.0",
          "state": {
            "_dom_classes": [],
            "_model_module": "@jupyter-widgets/controls",
            "_model_module_version": "1.5.0",
            "_model_name": "HTMLModel",
            "_view_count": null,
            "_view_module": "@jupyter-widgets/controls",
            "_view_module_version": "1.5.0",
            "_view_name": "HTMLView",
            "description": "",
            "description_tooltip": null,
            "layout": "IPY_MODEL_6ae0a5a5aaa34fd0b27356fe48d4f932",
            "placeholder": "​",
            "style": "IPY_MODEL_5ed8f09d4119499da3cb89fc20f5c42c",
            "value": "Downloading: 100%"
          }
        },
        "0ae53184962a4b6c9e86b96aee9b6bac": {
          "model_module": "@jupyter-widgets/controls",
          "model_name": "FloatProgressModel",
          "model_module_version": "1.5.0",
          "state": {
            "_dom_classes": [],
            "_model_module": "@jupyter-widgets/controls",
            "_model_module_version": "1.5.0",
            "_model_name": "FloatProgressModel",
            "_view_count": null,
            "_view_module": "@jupyter-widgets/controls",
            "_view_module_version": "1.5.0",
            "_view_name": "ProgressView",
            "bar_style": "success",
            "description": "",
            "description_tooltip": null,
            "layout": "IPY_MODEL_719f611e0d6d44a69f48621fdb2c23e5",
            "max": 377667514,
            "min": 0,
            "orientation": "horizontal",
            "style": "IPY_MODEL_2f995ce010b141ddaaf4fc872f849782",
            "value": 377667514
          }
        },
        "931392be3ba94d7c8fd1b709c44d5d0c": {
          "model_module": "@jupyter-widgets/controls",
          "model_name": "HTMLModel",
          "model_module_version": "1.5.0",
          "state": {
            "_dom_classes": [],
            "_model_module": "@jupyter-widgets/controls",
            "_model_module_version": "1.5.0",
            "_model_name": "HTMLModel",
            "_view_count": null,
            "_view_module": "@jupyter-widgets/controls",
            "_view_module_version": "1.5.0",
            "_view_name": "HTMLView",
            "description": "",
            "description_tooltip": null,
            "layout": "IPY_MODEL_e45c96d1cd0c4d549463c868a60b9518",
            "placeholder": "​",
            "style": "IPY_MODEL_114d4d5286bb4eaf81a6c42f282bb58c",
            "value": " 360M/360M [00:08&lt;00:00, 48.4MB/s]"
          }
        },
        "181ba4aef8c6409680849c536ca46474": {
          "model_module": "@jupyter-widgets/base",
          "model_name": "LayoutModel",
          "model_module_version": "1.2.0",
          "state": {
            "_model_module": "@jupyter-widgets/base",
            "_model_module_version": "1.2.0",
            "_model_name": "LayoutModel",
            "_view_count": null,
            "_view_module": "@jupyter-widgets/base",
            "_view_module_version": "1.2.0",
            "_view_name": "LayoutView",
            "align_content": null,
            "align_items": null,
            "align_self": null,
            "border": null,
            "bottom": null,
            "display": null,
            "flex": null,
            "flex_flow": null,
            "grid_area": null,
            "grid_auto_columns": null,
            "grid_auto_flow": null,
            "grid_auto_rows": null,
            "grid_column": null,
            "grid_gap": null,
            "grid_row": null,
            "grid_template_areas": null,
            "grid_template_columns": null,
            "grid_template_rows": null,
            "height": null,
            "justify_content": null,
            "justify_items": null,
            "left": null,
            "margin": null,
            "max_height": null,
            "max_width": null,
            "min_height": null,
            "min_width": null,
            "object_fit": null,
            "object_position": null,
            "order": null,
            "overflow": null,
            "overflow_x": null,
            "overflow_y": null,
            "padding": null,
            "right": null,
            "top": null,
            "visibility": null,
            "width": null
          }
        },
        "6ae0a5a5aaa34fd0b27356fe48d4f932": {
          "model_module": "@jupyter-widgets/base",
          "model_name": "LayoutModel",
          "model_module_version": "1.2.0",
          "state": {
            "_model_module": "@jupyter-widgets/base",
            "_model_module_version": "1.2.0",
            "_model_name": "LayoutModel",
            "_view_count": null,
            "_view_module": "@jupyter-widgets/base",
            "_view_module_version": "1.2.0",
            "_view_name": "LayoutView",
            "align_content": null,
            "align_items": null,
            "align_self": null,
            "border": null,
            "bottom": null,
            "display": null,
            "flex": null,
            "flex_flow": null,
            "grid_area": null,
            "grid_auto_columns": null,
            "grid_auto_flow": null,
            "grid_auto_rows": null,
            "grid_column": null,
            "grid_gap": null,
            "grid_row": null,
            "grid_template_areas": null,
            "grid_template_columns": null,
            "grid_template_rows": null,
            "height": null,
            "justify_content": null,
            "justify_items": null,
            "left": null,
            "margin": null,
            "max_height": null,
            "max_width": null,
            "min_height": null,
            "min_width": null,
            "object_fit": null,
            "object_position": null,
            "order": null,
            "overflow": null,
            "overflow_x": null,
            "overflow_y": null,
            "padding": null,
            "right": null,
            "top": null,
            "visibility": null,
            "width": null
          }
        },
        "5ed8f09d4119499da3cb89fc20f5c42c": {
          "model_module": "@jupyter-widgets/controls",
          "model_name": "DescriptionStyleModel",
          "model_module_version": "1.5.0",
          "state": {
            "_model_module": "@jupyter-widgets/controls",
            "_model_module_version": "1.5.0",
            "_model_name": "DescriptionStyleModel",
            "_view_count": null,
            "_view_module": "@jupyter-widgets/base",
            "_view_module_version": "1.2.0",
            "_view_name": "StyleView",
            "description_width": ""
          }
        },
        "719f611e0d6d44a69f48621fdb2c23e5": {
          "model_module": "@jupyter-widgets/base",
          "model_name": "LayoutModel",
          "model_module_version": "1.2.0",
          "state": {
            "_model_module": "@jupyter-widgets/base",
            "_model_module_version": "1.2.0",
            "_model_name": "LayoutModel",
            "_view_count": null,
            "_view_module": "@jupyter-widgets/base",
            "_view_module_version": "1.2.0",
            "_view_name": "LayoutView",
            "align_content": null,
            "align_items": null,
            "align_self": null,
            "border": null,
            "bottom": null,
            "display": null,
            "flex": null,
            "flex_flow": null,
            "grid_area": null,
            "grid_auto_columns": null,
            "grid_auto_flow": null,
            "grid_auto_rows": null,
            "grid_column": null,
            "grid_gap": null,
            "grid_row": null,
            "grid_template_areas": null,
            "grid_template_columns": null,
            "grid_template_rows": null,
            "height": null,
            "justify_content": null,
            "justify_items": null,
            "left": null,
            "margin": null,
            "max_height": null,
            "max_width": null,
            "min_height": null,
            "min_width": null,
            "object_fit": null,
            "object_position": null,
            "order": null,
            "overflow": null,
            "overflow_x": null,
            "overflow_y": null,
            "padding": null,
            "right": null,
            "top": null,
            "visibility": null,
            "width": null
          }
        },
        "2f995ce010b141ddaaf4fc872f849782": {
          "model_module": "@jupyter-widgets/controls",
          "model_name": "ProgressStyleModel",
          "model_module_version": "1.5.0",
          "state": {
            "_model_module": "@jupyter-widgets/controls",
            "_model_module_version": "1.5.0",
            "_model_name": "ProgressStyleModel",
            "_view_count": null,
            "_view_module": "@jupyter-widgets/base",
            "_view_module_version": "1.2.0",
            "_view_name": "StyleView",
            "bar_color": null,
            "description_width": ""
          }
        },
        "e45c96d1cd0c4d549463c868a60b9518": {
          "model_module": "@jupyter-widgets/base",
          "model_name": "LayoutModel",
          "model_module_version": "1.2.0",
          "state": {
            "_model_module": "@jupyter-widgets/base",
            "_model_module_version": "1.2.0",
            "_model_name": "LayoutModel",
            "_view_count": null,
            "_view_module": "@jupyter-widgets/base",
            "_view_module_version": "1.2.0",
            "_view_name": "LayoutView",
            "align_content": null,
            "align_items": null,
            "align_self": null,
            "border": null,
            "bottom": null,
            "display": null,
            "flex": null,
            "flex_flow": null,
            "grid_area": null,
            "grid_auto_columns": null,
            "grid_auto_flow": null,
            "grid_auto_rows": null,
            "grid_column": null,
            "grid_gap": null,
            "grid_row": null,
            "grid_template_areas": null,
            "grid_template_columns": null,
            "grid_template_rows": null,
            "height": null,
            "justify_content": null,
            "justify_items": null,
            "left": null,
            "margin": null,
            "max_height": null,
            "max_width": null,
            "min_height": null,
            "min_width": null,
            "object_fit": null,
            "object_position": null,
            "order": null,
            "overflow": null,
            "overflow_x": null,
            "overflow_y": null,
            "padding": null,
            "right": null,
            "top": null,
            "visibility": null,
            "width": null
          }
        },
        "114d4d5286bb4eaf81a6c42f282bb58c": {
          "model_module": "@jupyter-widgets/controls",
          "model_name": "DescriptionStyleModel",
          "model_module_version": "1.5.0",
          "state": {
            "_model_module": "@jupyter-widgets/controls",
            "_model_module_version": "1.5.0",
            "_model_name": "DescriptionStyleModel",
            "_view_count": null,
            "_view_module": "@jupyter-widgets/base",
            "_view_module_version": "1.2.0",
            "_view_name": "StyleView",
            "description_width": ""
          }
        }
      }
    }
  },
  "cells": [
    {
      "cell_type": "markdown",
      "metadata": {
        "id": "view-in-github",
        "colab_type": "text"
      },
      "source": [
        "<a href=\"https://colab.research.google.com/github/EddyGiusepe/Pytorch_to_Speech_to_Text/blob/main/Speech_Transcript_with_Hugging_Face_Transformers.ipynb\" target=\"_parent\"><img src=\"https://colab.research.google.com/assets/colab-badge.svg\" alt=\"Open In Colab\"/></a>"
      ]
    },
    {
      "cell_type": "markdown",
      "source": [
        "# <h2 align=\"center\">English Audio Speech-to-Text Transcript with Hugging Face</h2>\n",
        "\n",
        "Data Scientist.: Dr.Eddy Giusepe Chirinos Isidro\n"
      ],
      "metadata": {
        "id": "l6j5ScTfIZNE"
      }
    },
    {
      "cell_type": "markdown",
      "source": [
        "## [Wav2Vec2-Base-960h](https://huggingface.co/facebook/wav2vec2-base-960h)\n",
        "\n",
        "Este modelo básico pré-treinado e ajustado em $960$ horas de ``Librispeech`` em áudio de fala amostrado de $16$kHz. Ao usar o modelo, certifique-se de que sua entrada de fala também seja amostrada em $16$Khz.\n",
        "\n",
        "\n",
        "Eles mostram que aprender representações poderosas apenas a partir do áudio da fala, seguido pelo ajuste fino da fala transcrita, pode superar os melhores métodos **semi-supervisionados**, sendo conceitualmente mais simples. O [wav2vec 2.0](https://huggingface.co/facebook/wav2vec2-base-960h) mascara a entrada de fala no espaço latente e resolve uma **tarefa contrastiva*** definida sobre uma quantização das representações latentes que são aprendidas em conjunto. Experimentos usando todos os dados rotulados do ``Librispeech`` atingem $1,8/3,3$ **WER** nos conjuntos de teste limpos/outros. Ao reduzir a quantidade de dados rotulados para uma hora, o [wav2vec 2.0](https://huggingface.co/facebook/wav2vec2-base-960h) supera o estado da arte anterior no subconjunto de $100$ horas enquanto usa $100$ vezes menos dados rotulados. Usando apenas dez minutos de dados rotulados e pré-treinamento em $53$ mil horas de dados não-rotulados ainda alcança $4,8/8,2$ **WER**. Isso demonstra a viabilidade do reconhecimento de voz com quantidades limitadas de dados rotulados.\n",
        "\n",
        "Para testar o modelo pré-treinado, [Hosted Inference API](https://huggingface.co/facebook/wav2vec2-base-960h), e assistir um Tutorial, pode seguir os seguintes links:\n",
        "\n",
        "* [facebook/wav2vec2-base-960h](https://huggingface.co/facebook/wav2vec2-base-960h) and [Hosted Inference API](https://huggingface.co/facebook/wav2vec2-base-960h).\n",
        "\n",
        "* [English Audio Speech-to-Text Transcript with Hugging Face](https://www.youtube.com/watch?v=dJAoK5zK36M)\n",
        "\n"
      ],
      "metadata": {
        "id": "0jFe5gAxI9rP"
      }
    },
    {
      "cell_type": "code",
      "execution_count": 1,
      "metadata": {
        "id": "0LN1lnW4Gdwx",
        "colab": {
          "base_uri": "https://localhost:8080/"
        },
        "outputId": "e7c511a6-e5fd-4823-e425-2325c1009116"
      },
      "outputs": [
        {
          "output_type": "stream",
          "name": "stdout",
          "text": [
            "\u001b[K     |████████████████████████████████| 4.0 MB 28.9 MB/s \n",
            "\u001b[K     |████████████████████████████████| 6.6 MB 52.5 MB/s \n",
            "\u001b[K     |████████████████████████████████| 895 kB 69.8 MB/s \n",
            "\u001b[K     |████████████████████████████████| 77 kB 5.7 MB/s \n",
            "\u001b[K     |████████████████████████████████| 596 kB 49.7 MB/s \n",
            "\u001b[?25h"
          ]
        }
      ],
      "source": [
        "# Instalamos transformers\n",
        "\n",
        "! pip install -q transformers"
      ]
    },
    {
      "cell_type": "code",
      "source": [
        "# Intalamos as nossas bibliotecas\n",
        "\n",
        "import librosa\n",
        "import torch\n",
        "from transformers import Wav2Vec2ForCTC, Wav2Vec2Tokenizer"
      ],
      "metadata": {
        "id": "YwIND6nLSmnK"
      },
      "execution_count": 2,
      "outputs": []
    },
    {
      "cell_type": "code",
      "source": [
        "# Aqui carregamos nosso modelo pré-treinado e tokenizer\n",
        "\n",
        "tokenizer = Wav2Vec2Tokenizer.from_pretrained(\"facebook/wav2vec2-base-960h\")\n",
        "model = Wav2Vec2ForCTC.from_pretrained(\"facebook/wav2vec2-base-960h\")"
      ],
      "metadata": {
        "colab": {
          "base_uri": "https://localhost:8080/",
          "height": 325,
          "referenced_widgets": [
            "b601bac65cf84513b95a8c3c5dadba3e",
            "bfcf3461ae5b454598e884ba2a8e2bf1",
            "9a98e2bfd44e4ecfb3d22615dd940cbb",
            "25e662508c314ab69583491b9004dfc8",
            "bec99fad3e9d4eedbd54c826bd5cc724",
            "4881caad74bb404f8602c904b6ef3cd2",
            "439149f249e6469e85c6e08e0ce45cd0",
            "030bada0d0854f54a0d8779d356c7eb9",
            "ad2f84a71e6e4fee955029545d6c725e",
            "7b38e5645cb94051b8db3fbf4989f8f5",
            "29a45e5b32b149d4ac8e7a8a6edbc032",
            "16dbf6ec74ae45d1a568e016b0b18829",
            "f5d3cc4c7ba34bfb8686567bec8c0994",
            "abe62e18cc9e49d0bd8f7d0f4ed65580",
            "9a57a13ed27d4f7ba9690b7d9b8b4802",
            "a8dcac5e98f148f4bc046c33128d1ec0",
            "9cccd2190f1c4d30b53241ef9980d9a0",
            "ba4995e4fa7841e692cc9c7f05ba5439",
            "e1cf155e07884b2db9a480ebf0bf0ae3",
            "cd5a1a80106246f0a4b084f07f281692",
            "619865b0a95c4f779dd67817dbf96771",
            "2728b7d0af1947e4a8e5c19b5b884ad7",
            "c636028c119b4748b1645a1130316c2f",
            "db2978d8322743668d5d86a2c3c4acad",
            "1560fd603af3485bb16403f51b5ef88a",
            "3536da960a7548cdbcdffddd80397606",
            "a178d64b95e5412bb20dc168002fe2e0",
            "3c916c757f2d40a9b4c6c827a9052105",
            "cabb9ad7137a434fad7a60a6362b417f",
            "91d4e549b53f4dfc9396565ac047870a",
            "97ce993e300c49d2b442e845136bbd37",
            "96210f8eba4944a98325a374c83ab75c",
            "07dc2822681c4d219f3595c8c49e5c0a",
            "345187b4f15d4cd69eac5b37154efe3f",
            "c070eaa48a5d4c52a39edcf66e04bfbf",
            "d7de4010f03c4e35bb9dcd28a2734234",
            "092df16cafb34ab29cdc03485793c1f0",
            "efb16b80c88a40a99a8d7fb15733f68e",
            "3f4732763fed4fcdb28151b5c859ac19",
            "b023642efc9a419084a0a75f4a0da65f",
            "fb9975e09a884ff5b2b1b6c4490e9e85",
            "7b12e0a2853f4af581e34bd2e7f78be0",
            "74d225eff17042f7880fc31f7b006fa3",
            "5a74f02150a44985bd6fbd08577210e3",
            "49891624cd874b639a0f5409e4ead69f",
            "ead80488bdc845f4a5a3d35b5e43ebb8",
            "0ae53184962a4b6c9e86b96aee9b6bac",
            "931392be3ba94d7c8fd1b709c44d5d0c",
            "181ba4aef8c6409680849c536ca46474",
            "6ae0a5a5aaa34fd0b27356fe48d4f932",
            "5ed8f09d4119499da3cb89fc20f5c42c",
            "719f611e0d6d44a69f48621fdb2c23e5",
            "2f995ce010b141ddaaf4fc872f849782",
            "e45c96d1cd0c4d549463c868a60b9518",
            "114d4d5286bb4eaf81a6c42f282bb58c"
          ]
        },
        "id": "fnbhN8vWS3Ip",
        "outputId": "a31474fc-0273-4a64-8ebb-40bec86b868d"
      },
      "execution_count": 3,
      "outputs": [
        {
          "output_type": "display_data",
          "data": {
            "text/plain": [
              "Downloading:   0%|          | 0.00/291 [00:00<?, ?B/s]"
            ],
            "application/vnd.jupyter.widget-view+json": {
              "version_major": 2,
              "version_minor": 0,
              "model_id": "b601bac65cf84513b95a8c3c5dadba3e"
            }
          },
          "metadata": {}
        },
        {
          "output_type": "display_data",
          "data": {
            "text/plain": [
              "Downloading:   0%|          | 0.00/163 [00:00<?, ?B/s]"
            ],
            "application/vnd.jupyter.widget-view+json": {
              "version_major": 2,
              "version_minor": 0,
              "model_id": "16dbf6ec74ae45d1a568e016b0b18829"
            }
          },
          "metadata": {}
        },
        {
          "output_type": "display_data",
          "data": {
            "text/plain": [
              "Downloading:   0%|          | 0.00/85.0 [00:00<?, ?B/s]"
            ],
            "application/vnd.jupyter.widget-view+json": {
              "version_major": 2,
              "version_minor": 0,
              "model_id": "c636028c119b4748b1645a1130316c2f"
            }
          },
          "metadata": {}
        },
        {
          "output_type": "display_data",
          "data": {
            "text/plain": [
              "Downloading:   0%|          | 0.00/1.56k [00:00<?, ?B/s]"
            ],
            "application/vnd.jupyter.widget-view+json": {
              "version_major": 2,
              "version_minor": 0,
              "model_id": "345187b4f15d4cd69eac5b37154efe3f"
            }
          },
          "metadata": {}
        },
        {
          "output_type": "stream",
          "name": "stderr",
          "text": [
            "The tokenizer class you load from this checkpoint is not the same type as the class this function is called from. It may result in unexpected tokenization. \n",
            "The tokenizer class you load from this checkpoint is 'Wav2Vec2CTCTokenizer'. \n",
            "The class this function is called from is 'Wav2Vec2Tokenizer'.\n",
            "/usr/local/lib/python3.7/dist-packages/transformers/models/wav2vec2/tokenization_wav2vec2.py:748: FutureWarning: The class `Wav2Vec2Tokenizer` is deprecated and will be removed in version 5 of Transformers. Please use `Wav2Vec2Processor` or `Wav2Vec2CTCTokenizer` instead.\n",
            "  FutureWarning,\n"
          ]
        },
        {
          "output_type": "display_data",
          "data": {
            "text/plain": [
              "Downloading:   0%|          | 0.00/360M [00:00<?, ?B/s]"
            ],
            "application/vnd.jupyter.widget-view+json": {
              "version_major": 2,
              "version_minor": 0,
              "model_id": "49891624cd874b639a0f5409e4ead69f"
            }
          },
          "metadata": {}
        },
        {
          "output_type": "stream",
          "name": "stderr",
          "text": [
            "Some weights of Wav2Vec2ForCTC were not initialized from the model checkpoint at facebook/wav2vec2-base-960h and are newly initialized: ['wav2vec2.masked_spec_embed']\n",
            "You should probably TRAIN this model on a down-stream task to be able to use it for predictions and inference.\n"
          ]
        }
      ]
    },
    {
      "cell_type": "code",
      "source": [
        "# Carregamos algum arquivo de áudio em Inglês\n",
        "\n",
        "speech, rate = librosa.load(\"/content/drive/MyDrive/2_DEEP_LEARNING_REDES_NEURAIS_Jorge/2_SpeechBrain/speechbrain/samples/audio_samples/example1.wav\",sr=16000)"
      ],
      "metadata": {
        "id": "IEQJB5tUTBVJ"
      },
      "execution_count": 4,
      "outputs": []
    },
    {
      "cell_type": "code",
      "source": [
        "import IPython.display as display\n",
        "\n",
        "display.Audio(\"/content/drive/MyDrive/2_DEEP_LEARNING_REDES_NEURAIS_Jorge/2_SpeechBrain/speechbrain/samples/audio_samples/example1.wav\", autoplay=True)"
      ],
      "metadata": {
        "colab": {
          "base_uri": "https://localhost:8080/",
          "height": 76
        },
        "id": "T92vGBYfUG0p",
        "outputId": "47721292-cf59-4a3e-ddc0-b3ca790be18c"
      },
      "execution_count": 5,
      "outputs": [
        {
          "output_type": "execute_result",
          "data": {
            "text/plain": [
              "<IPython.lib.display.Audio object>"
            ],
            "text/html": [
              "\n",
              "                <audio controls=\"controls\" autoplay=\"autoplay\">\n",
              "                    <source src=\"data:audio/x-wav;base64,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\" type=\"audio/x-wav\" />\n",
              "                    Your browser does not support the audio element.\n",
              "                </audio>\n",
              "              "
            ]
          },
          "metadata": {},
          "execution_count": 5
        }
      ]
    },
    {
      "cell_type": "code",
      "source": [
        "input_values = tokenizer(speech, return_tensors = 'pt').input_values"
      ],
      "metadata": {
        "id": "v1D7MDSzUN6n"
      },
      "execution_count": 6,
      "outputs": []
    },
    {
      "cell_type": "code",
      "source": [
        "input_values"
      ],
      "metadata": {
        "colab": {
          "base_uri": "https://localhost:8080/"
        },
        "id": "pQpNIjZJURXl",
        "outputId": "5b9eaa91-35ac-42a9-ed43-6246ab9a28e6"
      },
      "execution_count": 7,
      "outputs": [
        {
          "output_type": "execute_result",
          "data": {
            "text/plain": [
              "tensor([[0.0118, 0.0088, 0.0059,  ..., 0.0044, 0.0221, 0.0088]])"
            ]
          },
          "metadata": {},
          "execution_count": 7
        }
      ]
    },
    {
      "cell_type": "code",
      "source": [
        "# Armazenar logits (previsões não normalizadas)\n",
        "\n",
        "logits = model(input_values).logits"
      ],
      "metadata": {
        "id": "CwCIxyjjUTl_"
      },
      "execution_count": 8,
      "outputs": []
    },
    {
      "cell_type": "code",
      "source": [
        "logits"
      ],
      "metadata": {
        "colab": {
          "base_uri": "https://localhost:8080/"
        },
        "id": "-5ia6ncTUcmd",
        "outputId": "cae2194c-11d2-460d-c2f3-fc7694502c42"
      },
      "execution_count": 9,
      "outputs": [
        {
          "output_type": "execute_result",
          "data": {
            "text/plain": [
              "tensor([[[ 12.0266, -27.1736, -26.9690,  ...,  -7.8541, -10.5646,  -8.2603],\n",
              "         [ 11.8670, -26.5545, -26.3550,  ...,  -7.6593, -10.4945,  -8.1725],\n",
              "         [ 11.9858, -25.9846, -25.8213,  ...,  -7.3364, -10.1871,  -8.0801],\n",
              "         ...,\n",
              "         [ 14.1830, -25.9861, -25.6892,  ...,  -7.2635,  -8.2811,  -6.5832],\n",
              "         [ 14.4573, -24.5903, -24.3336,  ...,  -5.7868,  -7.0718,  -5.7210],\n",
              "         [ 14.4571, -24.5904, -24.3337,  ...,  -5.7869,  -7.0719,  -5.7211]]],\n",
              "       grad_fn=<AddBackward0>)"
            ]
          },
          "metadata": {},
          "execution_count": 9
        }
      ]
    },
    {
      "cell_type": "code",
      "source": [
        "# Armazenar IDs previstos \n",
        "\n",
        "predicted_ids = torch.argmax(logits, dim =-1)"
      ],
      "metadata": {
        "id": "p6CH8yUgUfbc"
      },
      "execution_count": 10,
      "outputs": []
    },
    {
      "cell_type": "code",
      "source": [
        "# decodificar o áudio para gerar texto\n",
        "\n",
        "transcriptions = tokenizer.decode(predicted_ids[0])"
      ],
      "metadata": {
        "id": "jDUq8E9kUnsj"
      },
      "execution_count": 11,
      "outputs": []
    },
    {
      "cell_type": "code",
      "source": [
        "# Finalmente visualizamos a transcrição de nosso áudio\n",
        "\n",
        "print(transcriptions)"
      ],
      "metadata": {
        "colab": {
          "base_uri": "https://localhost:8080/"
        },
        "id": "oYiJ7oHgU0z3",
        "outputId": "674bf1a0-1d32-4c87-e51b-f546b7989bc3"
      },
      "execution_count": 12,
      "outputs": [
        {
          "output_type": "stream",
          "name": "stdout",
          "text": [
            "THE BIRCH CANOE SLID ON THE SMOOTH PLINKS\n"
          ]
        }
      ]
    }
  ]
}